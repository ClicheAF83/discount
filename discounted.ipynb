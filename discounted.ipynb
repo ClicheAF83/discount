{
 "cells": [
  {
   "cell_type": "code",
   "execution_count": 2,
   "id": "8e5d9fb3",
   "metadata": {},
   "outputs": [
    {
     "name": "stdout",
     "output_type": "stream",
     "text": [
      "please enter the price here in Ksh: 234\n",
      "please enter the discount here in numbers: 12\n",
      "Final price payable in Ksh:  234\n"
     ]
    }
   ],
   "source": [
    "def calculate_discount(price, discount_percent):\n",
    "    new_price = price - (price * discount_percent/100)\n",
    "    if discount_percent >= 20:\n",
    "        return new_price\n",
    "    else:\n",
    "        return price\n",
    "price = int(input('please enter the price here in Ksh: '))\n",
    "discount_percent = int(input('please enter the discount here in numbers: '))\n",
    "final_price = calculate_discount(price,discount_percent)\n",
    "print('Final price payable in Ksh: ', final_price)"
   ]
  },
  {
   "cell_type": "code",
   "execution_count": null,
   "id": "4f52da62",
   "metadata": {},
   "outputs": [],
   "source": []
  }
 ],
 "metadata": {
  "kernelspec": {
   "display_name": "Python 3 (ipykernel)",
   "language": "python",
   "name": "python3"
  },
  "language_info": {
   "codemirror_mode": {
    "name": "ipython",
    "version": 3
   },
   "file_extension": ".py",
   "mimetype": "text/x-python",
   "name": "python",
   "nbconvert_exporter": "python",
   "pygments_lexer": "ipython3",
   "version": "3.10.9"
  }
 },
 "nbformat": 4,
 "nbformat_minor": 5
}
